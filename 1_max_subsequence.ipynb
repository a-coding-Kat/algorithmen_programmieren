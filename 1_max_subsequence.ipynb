{
 "cells": [
  {
   "cell_type": "code",
   "execution_count": 1,
   "id": "07bbd31e",
   "metadata": {},
   "outputs": [],
   "source": [
    "import numpy # which functions are optimized here?"
   ]
  },
  {
   "cell_type": "code",
   "execution_count": 2,
   "id": "ac91c4d0",
   "metadata": {},
   "outputs": [],
   "source": [
    "price_change = [31, -41, 59, 26, -53, 58, 97, -93, -23]"
   ]
  },
  {
   "cell_type": "markdown",
   "id": "ffcc1831",
   "metadata": {},
   "source": [
    "Nun sucht man einen **Start-** und **einen End-Index**, so dass die **Summe zwischen diesen möglichst gross** ist. Im Beispiel wären das der Start-Index 2 und der End-Index 6. Die Summe der Werte in diesem Bereich ist 187.\n",
    "\n",
    "Es muss also das **Maximum aus den Summen**, die sich aus allen möglichen Kombinationen von Start- und End-Indizes ergeben, berechnet werden.\n",
    "\n",
    "Programmiert eine Lösung für die oben beschriebene Aufgabe in einer Funktion.\n",
    "\n",
    "\n",
    "- Wie kann man diese Funktion testen?   \n",
    "- Welche Situationen sollte man testen?   \n",
    "- Funktioniert die Funktion in allen Fällen korrekt?\n",
    "-  Wie lange braucht das Programm dieser Funktion, wenn die Eingabe-Liste immer länger wird?   \n",
    "- Wie verändert sich die Laufzeit, wenn man die Länge der Eingabe-Liste verdoppelt?"
   ]
  },
  {
   "cell_type": "code",
   "execution_count": null,
   "id": "344fd843",
   "metadata": {},
   "outputs": [],
   "source": [
    "max_earning = 0\n",
    "start_idx = None\n",
    "end_ind = None\n",
    "n = len(price_change)\n",
    "\n",
    "for start in range(n - 1): # because range goes from 0 - (n-1)\n",
    "    for end in range(start + 1)"
   ]
  }
 ],
 "metadata": {
  "kernelspec": {
   "display_name": "Python 3 (ipykernel)",
   "language": "python",
   "name": "python3"
  },
  "language_info": {
   "codemirror_mode": {
    "name": "ipython",
    "version": 3
   },
   "file_extension": ".py",
   "mimetype": "text/x-python",
   "name": "python",
   "nbconvert_exporter": "python",
   "pygments_lexer": "ipython3",
   "version": "3.8.3"
  }
 },
 "nbformat": 4,
 "nbformat_minor": 5
}
